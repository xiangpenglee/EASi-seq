{
 "cells": [
  {
   "cell_type": "markdown",
   "id": "4692ff96",
   "metadata": {},
   "source": [
    "# ZymoBiomics Community Standard \n",
    "## Reference-free analysis\n",
    "#### Data analysis process\n",
    "1. process the barcode group fastq files with Kraken2/Bracken\n",
    "2. filtere the result\n",
    "3. compaire the result with reference based method\n",
    "4. combine by species for assembly\n",
    "\n"
   ]
  },
  {
   "cell_type": "code",
   "execution_count": 78,
   "id": "4fc16d2b",
   "metadata": {},
   "outputs": [],
   "source": [
    "import pandas as pd\n",
    "import scanpy as sc\n",
    "import anndata\n",
    "import matplotlib.pyplot as plt\n",
    "import matplotlib\n",
    "import numpy as np\n",
    "import seaborn as sns\n",
    "import os\n",
    "from matplotlib.colors import LogNorm, Normalize"
   ]
  },
  {
   "cell_type": "markdown",
   "id": "837cd66b",
   "metadata": {},
   "source": [
    "## kraken profiling using PlusPF DB\n",
    "#### Load the valid barcode filtered by read count"
   ]
  },
  {
   "cell_type": "code",
   "execution_count": 5,
   "id": "49f63f91",
   "metadata": {},
   "outputs": [
    {
     "name": "stdout",
     "output_type": "stream",
     "text": [
      "Started with 14175 barcode groups\n"
     ]
    }
   ],
   "source": [
    "exp_dir = '/drive4/xiangpeng/Project/bacteria/Zymo_novoseq4/split/'\n",
    "valid_bars =  pd.read_csv(exp_dir + \"valid_barcodes.txt\", names=['bar'])['bar'].tolist()\n",
    "print(\"Started with {} barcode groups\".format(len(valid_bars)))"
   ]
  },
  {
   "cell_type": "code",
   "execution_count": 22,
   "id": "04e7123c",
   "metadata": {},
   "outputs": [],
   "source": [
    "# process the valid barcodes with Kraken\n",
    "fq_dir = '/drive4/xiangpeng/Project/bacteria/Zymo_novoseq4/split/scFASTQ/fq/'\n",
    "kraken_db = '/drive1/xiangpeng/reference/kraken2/plusPF'\n",
    "kraken_dir = '/drive4/xiangpeng/Project/bacteria/Zymo_novoseq4/split/scFASTQ/kraken/'\n",
    "output_dir = '/drive4/xiangpeng/Project/bacteria/Zymo_novoseq4/split/scFASTQ/analysis/'\n",
    "bar_uncls = {}# dictionary of barcode: ratio of unmapped reads\n",
    "\n",
    "for bar in valid_bars:\n",
    "    fq1 = fq_dir + bar + '_R1.fq'\n",
    "    fq2 = fq_dir + bar + '_R2.fq'\n",
    "    rpt = kraken_dir + bar + '.kraken'\n",
    "    outpt = kraken_dir + bar + '.output'\n",
    "    #command for the kraken2 analysis of each barcodes\n",
    "    kraken_cmd =  'kraken2  --threads 32 --memory-mapping  --db {} --report {} --output {} --paired {} {}'.format(kraken_db,\n",
    "                                                                                                                  rpt, \n",
    "                                                                                                                  outpt,\n",
    "                                                                                                                  fq1,\n",
    "                                                                                                                  fq2\n",
    "        \n",
    "                                                                                                                )\n",
    "    #os.system(kraken_cmd)\n",
    "    # read the first line of the report and get the unmapped read ratio\n",
    "    rpt_file = open(rpt, \"r\")\n",
    "    first_line = rpt_file.readline()\n",
    "    rpt_file.close()\n",
    "    uncls_rate = float(first_line.split('\\t')[0].strip(' '))\n",
    "    bar_uncls[bar]=uncls_rate\n",
    "\n",
    "  "
   ]
  },
  {
   "cell_type": "code",
   "execution_count": 38,
   "id": "85f84a22",
   "metadata": {},
   "outputs": [],
   "source": [
    "bar_uncls_df = pd.DataFrame.from_dict(bar_uncls,columns=['unclassified_ratio'], orient='index')"
   ]
  },
  {
   "cell_type": "code",
   "execution_count": 134,
   "id": "33b3f5da",
   "metadata": {},
   "outputs": [
    {
     "data": {
      "image/png": "[encoded data removed]",
      "text/plain": [
       "<Figure size 288x288 with 1 Axes>"
      ]
     },
     "metadata": {
      "needs_background": "light"
     },
     "output_type": "display_data"
    }
   ],
   "source": [
    "# filter data by unclassified ratio\n",
    "max_unmap = 20 # select the barcode groups with maxmum 20% read that are not mapped\n",
    "data = bar_uncls_df['unclassified_ratio'].tolist()\n",
    "\n",
    "fig, ax = plt.subplots(figsize=(4,4))\n",
    "N,bins,patches = ax.hist(data, \n",
    "                         #edgecolor = 'white', \n",
    "                         #linewidth =1,\n",
    "                         bins =100)\n",
    "plt.axvline(x=max_unmap, color='k', \n",
    "            linestyle='--', \n",
    "            label='Cell Threshold')\n",
    "\n",
    "for i in range(max_unmap,100):    \n",
    "    patches[i].set_facecolor('grey')\n",
    "plt.xlabel('Percentage of unclassified reads')#, fontsize=16)\n",
    "plt.ylabel('Barcode counts')#, fontsize=16)\n",
    "#plt.title('Perentage of reads not classified by Kraken', fontsize = 16)\n",
    "plt.savefig(output_dir+'zymo_filter_by_kraken_ummap_rate.pdf')\n",
    "plt.show()"
   ]
  },
  {
   "cell_type": "code",
   "execution_count": 135,
   "id": "81c30b5f",
   "metadata": {},
   "outputs": [
    {
     "name": "stdout",
     "output_type": "stream",
     "text": [
      "4211\n"
     ]
    }
   ],
   "source": [
    "filtered_bars =  bar_uncls_df[bar_uncls_df['unclassified_ratio']<=max_unmap].index.tolist()\n",
    "print(len(filtered_bars))"
   ]
  },
  {
   "cell_type": "code",
   "execution_count": 136,
   "id": "41dc9c93",
   "metadata": {},
   "outputs": [],
   "source": [
    "# bracken analysis of the kraken output files with filtered barcodes. \n",
    "bar_gns_abd =  pd.DataFrame() # Dataframe of the genus abundace of each barcode group\n",
    "\n",
    "for bar in filtered_bars:\n",
    "    # bracken process the kraken output data\n",
    "    rpt = kraken_dir + bar + '.kraken'\n",
    "    brk = kraken_dir + bar + '_G.bracken' # bracken output file at Genus level\n",
    "    brk_cmd =  'bracken -d {} -l G -i {} -o {}'.format(kraken_db,rpt,brk)\n",
    "    #print(brk_cmd)\n",
    "    #os.system(brk_cmd)\n",
    "    \n",
    "    # read the bracke output file and combine into a dataframe\n",
    "    try:\n",
    "        df = pd.read_csv(brk, sep = '\\t', index_col = 0) # read the bracken output into a pd dataframe.\n",
    "        df = df.rename(columns = {'fraction_total_reads': bar})\n",
    "        bar_gns_abd = pd.concat([bar_gns_abd, df[bar]], axis =1)\n",
    "    except FileNotFoundError:\n",
    "        continue\n",
    "bar_gns_abd = bar_gns_abd.fillna(0)"
   ]
  },
  {
   "cell_type": "code",
   "execution_count": 137,
   "id": "46d8fce6",
   "metadata": {},
   "outputs": [],
   "source": [
    "bar_gns = bar_gns_abd.T\n",
    "bar_gns.to_csv(output_dir + 'Zymo_filtered_barcode_kraken_genus_abundance.csv')"
   ]
  },
  {
   "cell_type": "code",
   "execution_count": 138,
   "id": "e87fdc29",
   "metadata": {},
   "outputs": [
    {
     "data": {
      "text/html": [
       "<div>\n",
       "<style scoped>\n",
       "    .dataframe tbody tr th:only-of-type {\n",
       "        vertical-align: middle;\n",
       "    }\n",
       "\n",
       "    .dataframe tbody tr th {\n",
       "        vertical-align: top;\n",
       "    }\n",
       "\n",
       "    .dataframe thead th {\n",
       "        text-align: right;\n",
       "    }\n",
       "</style>\n",
       "<table border=\"1\" class=\"dataframe\">\n",
       "  <thead>\n",
       "    <tr style=\"text-align: right;\">\n",
       "      <th></th>\n",
       "      <th>Enterococcus</th>\n",
       "      <th>Bacillus</th>\n",
       "      <th>Sediminibacillus</th>\n",
       "      <th>Escherichia</th>\n",
       "      <th>Staphylococcus</th>\n",
       "      <th>Burkholderia</th>\n",
       "      <th>Cryptococcus</th>\n",
       "      <th>Pseudomonas</th>\n",
       "      <th>Bordetella</th>\n",
       "      <th>Thauera</th>\n",
       "      <th>...</th>\n",
       "      <th>Aquicella</th>\n",
       "      <th>Lacunisphaera</th>\n",
       "      <th>Roseivirga</th>\n",
       "      <th>Sulfurimonas</th>\n",
       "      <th>Pontibacter</th>\n",
       "      <th>Thermoanaerosceptrum</th>\n",
       "      <th>Halapricum</th>\n",
       "      <th>Paraurantiacibacter</th>\n",
       "      <th>purity</th>\n",
       "      <th>Genus</th>\n",
       "    </tr>\n",
       "  </thead>\n",
       "  <tbody>\n",
       "    <tr>\n",
       "      <th>CGGATTCTCGCCTGCATC-1</th>\n",
       "      <td>0.96102</td>\n",
       "      <td>0.00593</td>\n",
       "      <td>0.00593</td>\n",
       "      <td>0.02669</td>\n",
       "      <td>0.00000</td>\n",
       "      <td>0.00000</td>\n",
       "      <td>0.00000</td>\n",
       "      <td>0.00000</td>\n",
       "      <td>0.00000</td>\n",
       "      <td>0.00000</td>\n",
       "      <td>...</td>\n",
       "      <td>0.0</td>\n",
       "      <td>0.0</td>\n",
       "      <td>0.0</td>\n",
       "      <td>0.0</td>\n",
       "      <td>0.0</td>\n",
       "      <td>0.0</td>\n",
       "      <td>0.0</td>\n",
       "      <td>0.0000</td>\n",
       "      <td>0.96102</td>\n",
       "      <td>Enterococcus</td>\n",
       "    </tr>\n",
       "    <tr>\n",
       "      <th>GATAACGTCAGCATTCCA-1</th>\n",
       "      <td>0.00175</td>\n",
       "      <td>0.00204</td>\n",
       "      <td>0.00000</td>\n",
       "      <td>0.00000</td>\n",
       "      <td>0.98817</td>\n",
       "      <td>0.00803</td>\n",
       "      <td>0.00000</td>\n",
       "      <td>0.00000</td>\n",
       "      <td>0.00000</td>\n",
       "      <td>0.00000</td>\n",
       "      <td>...</td>\n",
       "      <td>0.0</td>\n",
       "      <td>0.0</td>\n",
       "      <td>0.0</td>\n",
       "      <td>0.0</td>\n",
       "      <td>0.0</td>\n",
       "      <td>0.0</td>\n",
       "      <td>0.0</td>\n",
       "      <td>0.0000</td>\n",
       "      <td>0.98817</td>\n",
       "      <td>Staphylococcus</td>\n",
       "    </tr>\n",
       "    <tr>\n",
       "      <th>TTAACGTTCACTGGTCAG-1</th>\n",
       "      <td>0.00000</td>\n",
       "      <td>0.00000</td>\n",
       "      <td>0.00000</td>\n",
       "      <td>0.00000</td>\n",
       "      <td>0.00000</td>\n",
       "      <td>0.00000</td>\n",
       "      <td>0.98836</td>\n",
       "      <td>0.01164</td>\n",
       "      <td>0.00000</td>\n",
       "      <td>0.00000</td>\n",
       "      <td>...</td>\n",
       "      <td>0.0</td>\n",
       "      <td>0.0</td>\n",
       "      <td>0.0</td>\n",
       "      <td>0.0</td>\n",
       "      <td>0.0</td>\n",
       "      <td>0.0</td>\n",
       "      <td>0.0</td>\n",
       "      <td>0.0000</td>\n",
       "      <td>0.98836</td>\n",
       "      <td>Cryptococcus</td>\n",
       "    </tr>\n",
       "    <tr>\n",
       "      <th>TCGGATGTTTTAAGTGGT-1</th>\n",
       "      <td>0.00000</td>\n",
       "      <td>0.00000</td>\n",
       "      <td>0.00000</td>\n",
       "      <td>0.00000</td>\n",
       "      <td>0.00000</td>\n",
       "      <td>0.00000</td>\n",
       "      <td>0.00000</td>\n",
       "      <td>0.00000</td>\n",
       "      <td>0.29155</td>\n",
       "      <td>0.02075</td>\n",
       "      <td>...</td>\n",
       "      <td>0.0</td>\n",
       "      <td>0.0</td>\n",
       "      <td>0.0</td>\n",
       "      <td>0.0</td>\n",
       "      <td>0.0</td>\n",
       "      <td>0.0</td>\n",
       "      <td>0.0</td>\n",
       "      <td>0.0000</td>\n",
       "      <td>0.64193</td>\n",
       "      <td>Sphingomonas</td>\n",
       "    </tr>\n",
       "    <tr>\n",
       "      <th>ACCTGTACCAGATGAGAT-1</th>\n",
       "      <td>0.00000</td>\n",
       "      <td>0.00000</td>\n",
       "      <td>0.00000</td>\n",
       "      <td>0.00000</td>\n",
       "      <td>0.00000</td>\n",
       "      <td>0.00000</td>\n",
       "      <td>0.00000</td>\n",
       "      <td>0.00000</td>\n",
       "      <td>0.00000</td>\n",
       "      <td>0.59219</td>\n",
       "      <td>...</td>\n",
       "      <td>0.0</td>\n",
       "      <td>0.0</td>\n",
       "      <td>0.0</td>\n",
       "      <td>0.0</td>\n",
       "      <td>0.0</td>\n",
       "      <td>0.0</td>\n",
       "      <td>0.0</td>\n",
       "      <td>0.0000</td>\n",
       "      <td>0.59219</td>\n",
       "      <td>Thauera</td>\n",
       "    </tr>\n",
       "    <tr>\n",
       "      <th>...</th>\n",
       "      <td>...</td>\n",
       "      <td>...</td>\n",
       "      <td>...</td>\n",
       "      <td>...</td>\n",
       "      <td>...</td>\n",
       "      <td>...</td>\n",
       "      <td>...</td>\n",
       "      <td>...</td>\n",
       "      <td>...</td>\n",
       "      <td>...</td>\n",
       "      <td>...</td>\n",
       "      <td>...</td>\n",
       "      <td>...</td>\n",
       "      <td>...</td>\n",
       "      <td>...</td>\n",
       "      <td>...</td>\n",
       "      <td>...</td>\n",
       "      <td>...</td>\n",
       "      <td>...</td>\n",
       "      <td>...</td>\n",
       "      <td>...</td>\n",
       "    </tr>\n",
       "    <tr>\n",
       "      <th>GGTTCTATCCACGCGTAA-2</th>\n",
       "      <td>0.00349</td>\n",
       "      <td>0.00452</td>\n",
       "      <td>0.00000</td>\n",
       "      <td>0.00000</td>\n",
       "      <td>0.00239</td>\n",
       "      <td>0.00000</td>\n",
       "      <td>0.00017</td>\n",
       "      <td>0.00000</td>\n",
       "      <td>0.00000</td>\n",
       "      <td>0.00000</td>\n",
       "      <td>...</td>\n",
       "      <td>0.0</td>\n",
       "      <td>0.0</td>\n",
       "      <td>0.0</td>\n",
       "      <td>0.0</td>\n",
       "      <td>0.0</td>\n",
       "      <td>0.0</td>\n",
       "      <td>0.0</td>\n",
       "      <td>0.0000</td>\n",
       "      <td>0.98620</td>\n",
       "      <td>Limosilactobacillus</td>\n",
       "    </tr>\n",
       "    <tr>\n",
       "      <th>CATCAATAGGTGTCGAGC-2</th>\n",
       "      <td>0.98256</td>\n",
       "      <td>0.00000</td>\n",
       "      <td>0.00000</td>\n",
       "      <td>0.00000</td>\n",
       "      <td>0.01231</td>\n",
       "      <td>0.00000</td>\n",
       "      <td>0.00000</td>\n",
       "      <td>0.00000</td>\n",
       "      <td>0.00000</td>\n",
       "      <td>0.00000</td>\n",
       "      <td>...</td>\n",
       "      <td>0.0</td>\n",
       "      <td>0.0</td>\n",
       "      <td>0.0</td>\n",
       "      <td>0.0</td>\n",
       "      <td>0.0</td>\n",
       "      <td>0.0</td>\n",
       "      <td>0.0</td>\n",
       "      <td>0.0000</td>\n",
       "      <td>0.98256</td>\n",
       "      <td>Enterococcus</td>\n",
       "    </tr>\n",
       "    <tr>\n",
       "      <th>CAAGTCGAACCAATGCCT-2</th>\n",
       "      <td>0.00000</td>\n",
       "      <td>0.00000</td>\n",
       "      <td>0.00000</td>\n",
       "      <td>0.00000</td>\n",
       "      <td>0.00000</td>\n",
       "      <td>0.00000</td>\n",
       "      <td>0.00000</td>\n",
       "      <td>0.00000</td>\n",
       "      <td>0.00000</td>\n",
       "      <td>0.00000</td>\n",
       "      <td>...</td>\n",
       "      <td>0.0</td>\n",
       "      <td>0.0</td>\n",
       "      <td>0.0</td>\n",
       "      <td>0.0</td>\n",
       "      <td>0.0</td>\n",
       "      <td>0.0</td>\n",
       "      <td>0.0</td>\n",
       "      <td>0.0000</td>\n",
       "      <td>1.00000</td>\n",
       "      <td>Azoarcus</td>\n",
       "    </tr>\n",
       "    <tr>\n",
       "      <th>CCTTGCTTGTGAACCAAT-2</th>\n",
       "      <td>0.00443</td>\n",
       "      <td>0.00566</td>\n",
       "      <td>0.00000</td>\n",
       "      <td>0.00000</td>\n",
       "      <td>0.00479</td>\n",
       "      <td>0.00000</td>\n",
       "      <td>0.00075</td>\n",
       "      <td>0.00000</td>\n",
       "      <td>0.00000</td>\n",
       "      <td>0.00000</td>\n",
       "      <td>...</td>\n",
       "      <td>0.0</td>\n",
       "      <td>0.0</td>\n",
       "      <td>0.0</td>\n",
       "      <td>0.0</td>\n",
       "      <td>0.0</td>\n",
       "      <td>0.0</td>\n",
       "      <td>0.0</td>\n",
       "      <td>0.0003</td>\n",
       "      <td>0.95000</td>\n",
       "      <td>Limosilactobacillus</td>\n",
       "    </tr>\n",
       "    <tr>\n",
       "      <th>GTCCGTAAGGGAAGTATG-2</th>\n",
       "      <td>0.00244</td>\n",
       "      <td>0.00000</td>\n",
       "      <td>0.00000</td>\n",
       "      <td>0.00000</td>\n",
       "      <td>0.00000</td>\n",
       "      <td>0.00000</td>\n",
       "      <td>0.00000</td>\n",
       "      <td>0.00000</td>\n",
       "      <td>0.00000</td>\n",
       "      <td>0.00000</td>\n",
       "      <td>...</td>\n",
       "      <td>0.0</td>\n",
       "      <td>0.0</td>\n",
       "      <td>0.0</td>\n",
       "      <td>0.0</td>\n",
       "      <td>0.0</td>\n",
       "      <td>0.0</td>\n",
       "      <td>0.0</td>\n",
       "      <td>0.0000</td>\n",
       "      <td>0.99756</td>\n",
       "      <td>Limosilactobacillus</td>\n",
       "    </tr>\n",
       "  </tbody>\n",
       "</table>\n",
       "<p>4186 rows × 779 columns</p>\n",
       "</div>"
      ],
      "text/plain": [
       "                      Enterococcus  Bacillus  Sediminibacillus  Escherichia  \\\n",
       "CGGATTCTCGCCTGCATC-1       0.96102   0.00593           0.00593      0.02669   \n",
       "GATAACGTCAGCATTCCA-1       0.00175   0.00204           0.00000      0.00000   \n",
       "TTAACGTTCACTGGTCAG-1       0.00000   0.00000           0.00000      0.00000   \n",
       "TCGGATGTTTTAAGTGGT-1       0.00000   0.00000           0.00000      0.00000   \n",
       "ACCTGTACCAGATGAGAT-1       0.00000   0.00000           0.00000      0.00000   \n",
       "...                            ...       ...               ...          ...   \n",
       "GGTTCTATCCACGCGTAA-2       0.00349   0.00452           0.00000      0.00000   \n",
       "CATCAATAGGTGTCGAGC-2       0.98256   0.00000           0.00000      0.00000   \n",
       "CAAGTCGAACCAATGCCT-2       0.00000   0.00000           0.00000      0.00000   \n",
       "CCTTGCTTGTGAACCAAT-2       0.00443   0.00566           0.00000      0.00000   \n",
       "GTCCGTAAGGGAAGTATG-2       0.00244   0.00000           0.00000      0.00000   \n",
       "\n",
       "                      Staphylococcus  Burkholderia  Cryptococcus  Pseudomonas  \\\n",
       "CGGATTCTCGCCTGCATC-1         0.00000       0.00000       0.00000      0.00000   \n",
       "GATAACGTCAGCATTCCA-1         0.98817       0.00803       0.00000      0.00000   \n",
       "TTAACGTTCACTGGTCAG-1         0.00000       0.00000       0.98836      0.01164   \n",
       "TCGGATGTTTTAAGTGGT-1         0.00000       0.00000       0.00000      0.00000   \n",
       "ACCTGTACCAGATGAGAT-1         0.00000       0.00000       0.00000      0.00000   \n",
       "...                              ...           ...           ...          ...   \n",
       "GGTTCTATCCACGCGTAA-2         0.00239       0.00000       0.00017      0.00000   \n",
       "CATCAATAGGTGTCGAGC-2         0.01231       0.00000       0.00000      0.00000   \n",
       "CAAGTCGAACCAATGCCT-2         0.00000       0.00000       0.00000      0.00000   \n",
       "CCTTGCTTGTGAACCAAT-2         0.00479       0.00000       0.00075      0.00000   \n",
       "GTCCGTAAGGGAAGTATG-2         0.00000       0.00000       0.00000      0.00000   \n",
       "\n",
       "                      Bordetella  Thauera  ...  Aquicella  Lacunisphaera  \\\n",
       "CGGATTCTCGCCTGCATC-1     0.00000  0.00000  ...        0.0            0.0   \n",
       "GATAACGTCAGCATTCCA-1     0.00000  0.00000  ...        0.0            0.0   \n",
       "TTAACGTTCACTGGTCAG-1     0.00000  0.00000  ...        0.0            0.0   \n",
       "TCGGATGTTTTAAGTGGT-1     0.29155  0.02075  ...        0.0            0.0   \n",
       "ACCTGTACCAGATGAGAT-1     0.00000  0.59219  ...        0.0            0.0   \n",
       "...                          ...      ...  ...        ...            ...   \n",
       "GGTTCTATCCACGCGTAA-2     0.00000  0.00000  ...        0.0            0.0   \n",
       "CATCAATAGGTGTCGAGC-2     0.00000  0.00000  ...        0.0            0.0   \n",
       "CAAGTCGAACCAATGCCT-2     0.00000  0.00000  ...        0.0            0.0   \n",
       "CCTTGCTTGTGAACCAAT-2     0.00000  0.00000  ...        0.0            0.0   \n",
       "GTCCGTAAGGGAAGTATG-2     0.00000  0.00000  ...        0.0            0.0   \n",
       "\n",
       "                      Roseivirga  Sulfurimonas  Pontibacter  \\\n",
       "CGGATTCTCGCCTGCATC-1         0.0           0.0          0.0   \n",
       "GATAACGTCAGCATTCCA-1         0.0           0.0          0.0   \n",
       "TTAACGTTCACTGGTCAG-1         0.0           0.0          0.0   \n",
       "TCGGATGTTTTAAGTGGT-1         0.0           0.0          0.0   \n",
       "ACCTGTACCAGATGAGAT-1         0.0           0.0          0.0   \n",
       "...                          ...           ...          ...   \n",
       "GGTTCTATCCACGCGTAA-2         0.0           0.0          0.0   \n",
       "CATCAATAGGTGTCGAGC-2         0.0           0.0          0.0   \n",
       "CAAGTCGAACCAATGCCT-2         0.0           0.0          0.0   \n",
       "CCTTGCTTGTGAACCAAT-2         0.0           0.0          0.0   \n",
       "GTCCGTAAGGGAAGTATG-2         0.0           0.0          0.0   \n",
       "\n",
       "                      Thermoanaerosceptrum  Halapricum  Paraurantiacibacter  \\\n",
       "CGGATTCTCGCCTGCATC-1                   0.0         0.0               0.0000   \n",
       "GATAACGTCAGCATTCCA-1                   0.0         0.0               0.0000   \n",
       "TTAACGTTCACTGGTCAG-1                   0.0         0.0               0.0000   \n",
       "TCGGATGTTTTAAGTGGT-1                   0.0         0.0               0.0000   \n",
       "ACCTGTACCAGATGAGAT-1                   0.0         0.0               0.0000   \n",
       "...                                    ...         ...                  ...   \n",
       "GGTTCTATCCACGCGTAA-2                   0.0         0.0               0.0000   \n",
       "CATCAATAGGTGTCGAGC-2                   0.0         0.0               0.0000   \n",
       "CAAGTCGAACCAATGCCT-2                   0.0         0.0               0.0000   \n",
       "CCTTGCTTGTGAACCAAT-2                   0.0         0.0               0.0003   \n",
       "GTCCGTAAGGGAAGTATG-2                   0.0         0.0               0.0000   \n",
       "\n",
       "                       purity                Genus  \n",
       "CGGATTCTCGCCTGCATC-1  0.96102         Enterococcus  \n",
       "GATAACGTCAGCATTCCA-1  0.98817       Staphylococcus  \n",
       "TTAACGTTCACTGGTCAG-1  0.98836         Cryptococcus  \n",
       "TCGGATGTTTTAAGTGGT-1  0.64193         Sphingomonas  \n",
       "ACCTGTACCAGATGAGAT-1  0.59219              Thauera  \n",
       "...                       ...                  ...  \n",
       "GGTTCTATCCACGCGTAA-2  0.98620  Limosilactobacillus  \n",
       "CATCAATAGGTGTCGAGC-2  0.98256         Enterococcus  \n",
       "CAAGTCGAACCAATGCCT-2  1.00000             Azoarcus  \n",
       "CCTTGCTTGTGAACCAAT-2  0.95000  Limosilactobacillus  \n",
       "GTCCGTAAGGGAAGTATG-2  0.99756  Limosilactobacillus  \n",
       "\n",
       "[4186 rows x 779 columns]"
      ]
     },
     "execution_count": 138,
     "metadata": {},
     "output_type": "execute_result"
    }
   ],
   "source": [
    "column_ls = bar_gns.columns.to_list()\n",
    "bar_gns['purity']=bar_gns[column_ls].max(axis=1)\n",
    "bar_gns['Genus']=bar_gns[column_ls].idxmax(axis=1)\n",
    "bar_gns"
   ]
  },
  {
   "cell_type": "code",
   "execution_count": 139,
   "id": "4e15f472",
   "metadata": {},
   "outputs": [
    {
     "data": {
      "image/png": "[encoded data removed]",
      "text/plain": [
       "<Figure size 288x288 with 1 Axes>"
      ]
     },
     "metadata": {
      "needs_background": "light"
     },
     "output_type": "display_data"
    }
   ],
   "source": [
    "min_purity =0.9\n",
    "\n",
    "fig, ax = plt.subplots(figsize=(4,4))\n",
    "plt.axvline(x=min_purity, color='k', linestyle='--', label='Cell Threshold')\n",
    "n, bins, patches = plt.hist(bar_gns['purity'], bins=100)\n",
    "for c,p in zip(bins, patches):\n",
    "    if c < min_purity:\n",
    "        plt.setp(p, 'facecolor', 'grey')\n",
    "\n",
    "plt.xlabel('Purity')#, fontsize=16)\n",
    "plt.ylabel('Barcode counts')#, fontsize=16)\n",
    "#plt.title('Perentage of reads not classified by Kraken', fontsize = 16)\n",
    "plt.savefig(output_dir+'Zymo_filter_genuse_level_purity.pdf')"
   ]
  },
  {
   "cell_type": "code",
   "execution_count": 140,
   "id": "c1498e5a",
   "metadata": {},
   "outputs": [
    {
     "data": {
      "image/png": "[encoded data removed]",
      "text/plain": [
       "<Figure size 288x288 with 1 Axes>"
      ]
     },
     "metadata": {
      "needs_background": "light"
     },
     "output_type": "display_data"
    }
   ],
   "source": [
    "fig, ax = plt.subplots(figsize=(4,4))\n",
    "plt.axvline(x=min_purity, color='k', linestyle='--', label='Cell Threshold')\n",
    "n, bins, patches = plt.hist(bar_gns['purity'], bins=100)\n",
    "for c,p in zip(bins, patches):\n",
    "    if c < min_purity:\n",
    "        plt.setp(p, 'facecolor', 'grey')\n",
    "\n",
    "plt.xlabel('Purity')#, fontsize=16)\n",
    "plt.ylabel('Barcode counts')#, fontsize=16)\n",
    "plt.yscale('log')\n",
    "#plt.title('Perentage of reads not classified by Kraken', fontsize = 16)\n",
    "plt.savefig(output_dir+'Zymo_filter_genuse_level_purity_log.pdf')"
   ]
  },
  {
   "cell_type": "code",
   "execution_count": 141,
   "id": "6397f5f3",
   "metadata": {},
   "outputs": [],
   "source": [
    "# filtere the data by purity \n",
    "bar_gns_filtered = bar_gns[bar_gns['purity']>=min_purity]"
   ]
  },
  {
   "cell_type": "markdown",
   "id": "1fb136f0",
   "metadata": {},
   "source": [
    "### UMAP visulization"
   ]
  },
  {
   "cell_type": "code",
   "execution_count": 142,
   "id": "a942bd7f",
   "metadata": {},
   "outputs": [],
   "source": [
    "adata =  anndata.AnnData(bar_gns_filtered[column_ls], dtype='float64' )"
   ]
  },
  {
   "cell_type": "code",
   "execution_count": 143,
   "id": "b64ecb7d",
   "metadata": {},
   "outputs": [],
   "source": [
    "sc.pp.neighbors(adata, use_rep='X')\n",
    "sc.tl.leiden(adata, resolution=1)"
   ]
  },
  {
   "cell_type": "code",
   "execution_count": 144,
   "id": "76ada5a8",
   "metadata": {},
   "outputs": [],
   "source": [
    "sc.tl.umap(adata)"
   ]
  },
  {
   "cell_type": "code",
   "execution_count": 145,
   "id": "02306d08",
   "metadata": {},
   "outputs": [
    {
     "data": {
      "image/png": "[encoded data removed]",
      "text/plain": [
       "<Figure size 360x360 with 1 Axes>"
      ]
     },
     "metadata": {},
     "output_type": "display_data"
    }
   ],
   "source": [
    "#sc.pl.umap(adata_s, color='leiden')\n",
    "\n",
    "from matplotlib.pyplot import rc_context\n",
    "with rc_context({'figure.figsize': (5, 5)}):\n",
    "    sc.pl.umap(adata, color='leiden')"
   ]
  },
  {
   "cell_type": "code",
   "execution_count": 146,
   "id": "bd62c46b",
   "metadata": {},
   "outputs": [
    {
     "name": "stdout",
     "output_type": "stream",
     "text": [
      "WARNING: Gene labels are not shown when more than 50 genes are visualized. To show gene labels set `show_gene_labels=True`\n"
     ]
    },
    {
     "data": {
      "image/png": "[encoded data removed]",
      "text/plain": [
       "<Figure size 590.4x432 with 3 Axes>"
      ]
     },
     "metadata": {
      "needs_background": "light"
     },
     "output_type": "display_data"
    }
   ],
   "source": [
    "ax = sc.pl.heatmap(adata, \n",
    "                   adata.var_names, \n",
    "                   groupby='leiden', \n",
    "                   cmap='viridis', \n",
    "                   dendrogram=False, \n",
    "                  )"
   ]
  },
  {
   "cell_type": "code",
   "execution_count": 147,
   "id": "c3ab7515",
   "metadata": {},
   "outputs": [],
   "source": [
    "# assign taxa by the most abundant genus\n",
    "dic_bar_genera = bar_gns_filtered['Genus'].to_dict()\n",
    "gns_cnt =  bar_gns_filtered['Genus'].value_counts().to_dict()\n",
    "for bar in dic_bar_genera:\n",
    "    genus = dic_bar_genera[bar] \n",
    "    if gns_cnt[genus] <=10: # because the list is too long, if the appearace of genus is less than 10 barcodes, then assign it as other\n",
    "        dic_bar_genera[bar] = 'other'\n",
    "        \n",
    "adata.obs['genus']=adata.obs.index.map(dic_bar_genera).astype('category')"
   ]
  },
  {
   "cell_type": "code",
   "execution_count": 148,
   "id": "148fd985",
   "metadata": {},
   "outputs": [
    {
     "data": {
      "image/png": "[encoded data removed]",
      "text/plain": [
       "<Figure size 360x360 with 1 Axes>"
      ]
     },
     "metadata": {},
     "output_type": "display_data"
    }
   ],
   "source": [
    "with rc_context({'figure.figsize': (5, 5)}):\n",
    "    sc.pl.umap(adata, color='genus',palette = 'tab20')"
   ]
  },
  {
   "cell_type": "code",
   "execution_count": 151,
   "id": "b4e26a30",
   "metadata": {},
   "outputs": [],
   "source": [
    "### Add taxa infor from reference based analysis\n",
    "ref_dir = '/drive4/xiangpeng/Project/bacteria/Zymo_novoseq4/split/scFASTQ/ref_analysis/'\n",
    "ref_file =  ref_dir + 'Zymo_barcode_read_count_mapped_to_species_filtered.csv'\n",
    "ref_bar_genus_dict = pd.read_csv(ref_file, index_col =0)['Species'].to_dict()"
   ]
  },
  {
   "cell_type": "code",
   "execution_count": 152,
   "id": "712c6237",
   "metadata": {},
   "outputs": [],
   "source": [
    "        \n",
    "adata.obs['genus_input']=adata.obs.index.map(ref_bar_genus_dict).astype('category')"
   ]
  },
  {
   "cell_type": "code",
   "execution_count": 153,
   "id": "f30ae954",
   "metadata": {},
   "outputs": [
    {
     "data": {
      "image/png": "[encoded data removed]",
      "text/plain": [
       "<Figure size 360x360 with 1 Axes>"
      ]
     },
     "metadata": {},
     "output_type": "display_data"
    }
   ],
   "source": [
    "with rc_context({'figure.figsize': (5, 5)}):\n",
    "    sc.pl.umap(adata, color='genus_input',palette = 'tab20')"
   ]
  },
  {
   "cell_type": "code",
   "execution_count": 159,
   "id": "bc330696",
   "metadata": {},
   "outputs": [],
   "source": [
    "# compare the kraken based taxa assignment vs reference based methods\n",
    "k_vs_ref = adata.obs[['genus','genus_input']]"
   ]
  },
  {
   "cell_type": "code",
   "execution_count": 163,
   "id": "7c27ba69",
   "metadata": {},
   "outputs": [],
   "source": [
    "k_vs_ref = k_vs_ref.groupby(['genus','genus_input']).size().reset_index().rename(columns={0:'count'})"
   ]
  },
  {
   "cell_type": "code",
   "execution_count": 165,
   "id": "0ef437a1",
   "metadata": {},
   "outputs": [],
   "source": [
    "k_vs_ref = k_vs_ref[k_vs_ref['count']>0]"
   ]
  },
  {
   "cell_type": "code",
   "execution_count": 174,
   "id": "269170be",
   "metadata": {},
   "outputs": [],
   "source": [
    "k_vs_ref_pivot = k_vs_ref.pivot(index='genus',\n",
    "              columns = 'genus_input',\n",
    "               values = 'count',\n",
    "              )\n",
    "k_vs_ref_pivot = k_vs_ref_pivot.fillna(0.1)"
   ]
  },
  {
   "cell_type": "code",
   "execution_count": 176,
   "id": "eecc32e6",
   "metadata": {},
   "outputs": [
    {
     "data": {
      "image/png": "[encoded data removed]",
      "text/plain": [
       "<Figure size 252x216 with 2 Axes>"
      ]
     },
     "metadata": {
      "needs_background": "light"
     },
     "output_type": "display_data"
    }
   ],
   "source": [
    "fig, ax = plt.subplots()                                       \n",
    "fig.set_size_inches(3.5,3) \n",
    "#log_norm = LogNorm(vmin=0.01, vmax=1000)\n",
    "sns.heatmap(k_vs_ref_pivot.T,\n",
    "            linewidths =0.01,\n",
    "            norm=LogNorm(vmin = 1, vmax =k_vs_ref_pivot.max().max()),\n",
    "            cmap='viridis', \n",
    "           )\n",
    "plt.xlabel('Classified by Kraken2',fontsize = 12)\n",
    "plt.ylabel('Classified by ref genome',fontsize = 11)\n",
    "plt.show()"
   ]
  },
  {
   "cell_type": "code",
   "execution_count": 178,
   "id": "2a07e530",
   "metadata": {},
   "outputs": [],
   "source": [
    "adata.write(output_dir + 'Zymo_kraken_anndata.h5ad')"
   ]
  },
  {
   "cell_type": "code",
   "execution_count": null,
   "id": "7c962df4",
   "metadata": {},
   "outputs": [],
   "source": []
  }
 ],
 "metadata": {
  "kernelspec": {
   "display_name": "Python 3",
   "language": "python",
   "name": "python3"
  },
  "language_info": {
   "codemirror_mode": {
    "name": "ipython",
    "version": 3
   },
   "file_extension": ".py",
   "mimetype": "text/x-python",
   "name": "python",
   "nbconvert_exporter": "python",
   "pygments_lexer": "ipython3",
   "version": "3.9.13"
  }
 },
 "nbformat": 4,
 "nbformat_minor": 5
}
